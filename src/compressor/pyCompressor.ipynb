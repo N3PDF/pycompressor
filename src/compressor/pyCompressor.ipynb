{
 "cells": [
  {
   "cell_type": "code",
   "execution_count": 1,
   "metadata": {},
   "outputs": [],
   "source": [
    "import time\n",
    "import lhapdf\n",
    "from random import sample\n",
    "from pdfGrid import xgrid, pdfSet\n",
    "from estimators import estimators, normalizationK"
   ]
  },
  {
   "cell_type": "code",
   "execution_count": 2,
   "metadata": {},
   "outputs": [
    {
     "data": {
      "text/plain": [
       "(1001, 10, 104)"
      ]
     },
     "execution_count": 2,
     "metadata": {},
     "output_type": "execute_result"
    }
   ],
   "source": [
    "# Physical Parameters\n",
    "pdfname = \"NNPDF31_nnlo_as_0118_1000\"\n",
    "Qscale  = 1\n",
    "nf = 5\n",
    "\n",
    "# construct grid\n",
    "x = xgrid()._build_xgrid()\n",
    "\n",
    "# Construct input pdf set\n",
    "pdf = pdfSet(pdfname, x, Qscale, nf)._buildPDF()\n",
    "pdf.shape"
   ]
  },
  {
   "cell_type": "code",
   "execution_count": 3,
   "metadata": {},
   "outputs": [
    {
     "data": {
      "text/plain": [
       "(101, 10, 104)"
      ]
     },
     "execution_count": 3,
     "metadata": {},
     "output_type": "execute_result"
    }
   ],
   "source": [
    "# Fake reduced PDF\n",
    "pdfRed = pdfSet(\"NNPDF31_nnlo_as_0118\", x, Qscale, nf)._buildPDF()\n",
    "pdfRed.shape"
   ]
  },
  {
   "cell_type": "code",
   "execution_count": 4,
   "metadata": {},
   "outputs": [
    {
     "name": "stdout",
     "output_type": "stream",
     "text": [
      "(10, 104)\n",
      "(10, 104)\n"
     ]
    }
   ],
   "source": [
    "est = estimators(pdf, pdfRed)\n",
    "print(est.mean()[0].shape)\n",
    "print(est.stdev()[1].shape)"
   ]
  },
  {
   "cell_type": "code",
   "execution_count": 5,
   "metadata": {},
   "outputs": [
    {
     "name": "stdout",
     "output_type": "stream",
     "text": [
      "CPU times: user 12.2 ms, sys: 237 µs, total: 12.4 ms\n",
      "Wall time: 11.2 ms\n",
      "(10,)\n",
      "(10,)\n",
      "CPU times: user 13.2 ms, sys: 0 ns, total: 13.2 ms\n",
      "Wall time: 12.6 ms\n",
      "(10,)\n",
      "(10,)\n"
     ]
    }
   ],
   "source": [
    "# Check Normalization\n",
    "norm = normalizationK(pdf, 1)\n",
    "%time cfd68x = norm.cfd68(\"mean\", pdfRed)\n",
    "print(cfd68x[0].shape)\n",
    "print(cfd68x[1].shape)\n",
    "%time cfd68z = norm.cfd68(\"stdev\", pdfRed)\n",
    "print(cfd68z[0].shape)\n",
    "print(cfd68z[1].shape)"
   ]
  },
  {
   "cell_type": "code",
   "execution_count": null,
   "metadata": {},
   "outputs": [],
   "source": []
  }
 ],
 "metadata": {
  "kernelspec": {
   "display_name": "Python 3",
   "language": "python",
   "name": "python3"
  },
  "language_info": {
   "codemirror_mode": {
    "name": "ipython",
    "version": 3
   },
   "file_extension": ".py",
   "mimetype": "text/x-python",
   "name": "python",
   "nbconvert_exporter": "python",
   "pygments_lexer": "ipython3",
   "version": "3.8.2"
  }
 },
 "nbformat": 4,
 "nbformat_minor": 4
}
