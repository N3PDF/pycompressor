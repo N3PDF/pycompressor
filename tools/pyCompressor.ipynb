{
 "cells": [
  {
   "cell_type": "code",
   "execution_count": 1,
   "metadata": {},
   "outputs": [],
   "source": [
    "import time\n",
    "import lhapdf\n",
    "import numpy as np\n",
    "from random import sample\n",
    "import sys\n",
    "import matplotlib.pyplot as plt\n",
    "%matplotlib inline\n",
    "\n",
    "from pycompressor.pdf_grid import XGrid, PdfSet\n",
    "from pycompressor.estimators import Estimators\n",
    "from pycompressor.err_function import compute_erfm\n",
    "from pycompressor.err_function import compute_erfs\n",
    "from pycompressor.err_function import compute_erfc\n",
    "from pycompressor.err_function import ErfComputation\n",
    "from pycompressor.compressor import error_function"
   ]
  },
  {
   "cell_type": "code",
   "execution_count": 2,
   "metadata": {},
   "outputs": [
    {
     "name": "stdout",
     "output_type": "stream",
     "text": [
      "Initial pdf shape: (1000, 5, 104)\n",
      "Prior pdf shape: (100, 5, 104)\n",
      "Reduced pdf shape: (50, 5, 104)\n"
     ]
    }
   ],
   "source": [
    "# Physical Parameters\n",
    "pdfname = \"NNPDF31_nnlo_as_0118_1000\"\n",
    "Qscale  = 1\n",
    "nf = 2\n",
    "# construct grid\n",
    "x = XGrid().build_xgrid()\n",
    "# x = np.linspace(1e-2,0.9,5)\n",
    "\n",
    "# Construct Toy Prior set\n",
    "pdf = PdfSet(pdfname, x, Qscale, nf).build_pdf()\n",
    "print(f'Initial pdf shape: {pdf.shape}')\n",
    "\n",
    "def sampling(replica, number):\n",
    "    \"\"\"\n",
    "    Sample a subset a replicas\n",
    "    \"\"\"\n",
    "    # Construct toy Reduced set\n",
    "    index = np.random.choice(\n",
    "        replica.shape[0],\n",
    "        number,\n",
    "        replace=False\n",
    "    )\n",
    "    return replica[index]\n",
    "\n",
    "# Construc Toy Prior and Reduced sets\n",
    "prior = sampling(pdf, 100)\n",
    "print(f'Prior pdf shape: {prior.shape}')\n",
    "reduc = sampling(prior, 50)\n",
    "print(f'Reduced pdf shape: {reduc.shape}')"
   ]
  },
  {
   "cell_type": "code",
   "execution_count": 3,
   "metadata": {},
   "outputs": [
    {
     "data": {
      "image/png": "[encoded data removed]",
      "text/plain": [
       "<Figure size 432x288 with 1 Axes>"
      ]
     },
     "metadata": {
      "needs_background": "light"
     },
     "output_type": "display_data"
    }
   ],
   "source": [
    "plt.figure()\n",
    "for p in range(reduc.shape[0]):\n",
    "    plt.plot(x, reduc[p][3], color=\"red\", alpha=.25)\n",
    "plt.show()"
   ]
  },
  {
   "cell_type": "code",
   "execution_count": 4,
   "metadata": {},
   "outputs": [],
   "source": [
    "est = Estimators(prior)"
   ]
  },
  {
   "cell_type": "code",
   "execution_count": 5,
   "metadata": {},
   "outputs": [],
   "source": [
    "MomentEstimators = [\n",
    "    \"mean\",\n",
    "    \"stdev\",\n",
    "    \"kurtosis\",\n",
    "    \"skewness\",\n",
    "    \"moment5th\",\n",
    "    \"moment6th\"\n",
    "]"
   ]
  },
  {
   "cell_type": "code",
   "execution_count": 6,
   "metadata": {},
   "outputs": [
    {
     "name": "stdout",
     "output_type": "stream",
     "text": [
      "(5, 104)\n",
      "(5, 104)\n",
      "(5, 104)\n",
      "(5, 104)\n",
      "(5, 104)\n",
      "(5, 104)\n"
     ]
    }
   ],
   "source": [
    "# Test Estimators Only\n",
    "for st in MomentEstimators:\n",
    "    print(getattr(est, st, None)().shape)"
   ]
  },
  {
   "cell_type": "code",
   "execution_count": 7,
   "metadata": {},
   "outputs": [
    {
     "name": "stdout",
     "output_type": "stream",
     "text": [
      "CPU times: user 9.98 ms, sys: 301 µs, total: 10.3 ms\n",
      "Wall time: 8.89 ms\n"
     ]
    },
    {
     "data": {
      "text/plain": [
       "(5, 104, 6)"
      ]
     },
     "execution_count": 7,
     "metadata": {},
     "output_type": "execute_result"
    }
   ],
   "source": [
    "%time est.kolmogorov_smirnov().shape"
   ]
  },
  {
   "cell_type": "code",
   "execution_count": 8,
   "metadata": {},
   "outputs": [],
   "source": [
    "# est.correlation().shape"
   ]
  },
  {
   "cell_type": "code",
   "execution_count": null,
   "metadata": {},
   "outputs": [],
   "source": []
  },
  {
   "cell_type": "code",
   "execution_count": 9,
   "metadata": {},
   "outputs": [],
   "source": [
    "est1 = Estimators(prior)\n",
    "est2 = Estimators(reduc)"
   ]
  },
  {
   "cell_type": "code",
   "execution_count": 10,
   "metadata": {},
   "outputs": [
    {
     "name": "stdout",
     "output_type": "stream",
     "text": [
      "594069.7196305359\n",
      "4.725093881541895\n",
      "14430.20558465661\n",
      "80389.15154059968\n",
      "5101.625145293691\n",
      "77.54463007156026\n"
     ]
    }
   ],
   "source": [
    "for st in MomentEstimators:\n",
    "    print(compute_erfm(est1, est2, st))"
   ]
  },
  {
   "cell_type": "code",
   "execution_count": 11,
   "metadata": {},
   "outputs": [
    {
     "data": {
      "text/plain": [
       "739.9217184513072"
      ]
     },
     "execution_count": 11,
     "metadata": {},
     "output_type": "execute_result"
    }
   ],
   "source": [
    "compute_erfs(est1, est2, 'kolmogorov_smirnov')"
   ]
  },
  {
   "cell_type": "code",
   "execution_count": null,
   "metadata": {},
   "outputs": [],
   "source": []
  },
  {
   "cell_type": "code",
   "execution_count": null,
   "metadata": {},
   "outputs": [],
   "source": [
    "erf = ErfComputation(prior, reduc)"
   ]
  },
  {
   "cell_type": "code",
   "execution_count": null,
   "metadata": {},
   "outputs": [],
   "source": [
    "for st in MomentEstimators:\n",
    "    print(erf.normalize_erfm(st))"
   ]
  },
  {
   "cell_type": "code",
   "execution_count": null,
   "metadata": {},
   "outputs": [],
   "source": [
    "for st in MomentEstimators:\n",
    "    print(erf.erfm(st))"
   ]
  },
  {
   "cell_type": "code",
   "execution_count": null,
   "metadata": {},
   "outputs": [],
   "source": [
    "%time erf.normalize_erfs('kolmogorov_smirnov')"
   ]
  },
  {
   "cell_type": "code",
   "execution_count": null,
   "metadata": {},
   "outputs": [],
   "source": [
    "%time erf.normalize_erfc('correlation')"
   ]
  },
  {
   "cell_type": "code",
   "execution_count": null,
   "metadata": {},
   "outputs": [],
   "source": []
  },
  {
   "cell_type": "code",
   "execution_count": null,
   "metadata": {},
   "outputs": [],
   "source": [
    "%time erf.erfs('kolmogorov_smirnov')"
   ]
  },
  {
   "cell_type": "code",
   "execution_count": null,
   "metadata": {},
   "outputs": [],
   "source": []
  },
  {
   "cell_type": "code",
   "execution_count": null,
   "metadata": {},
   "outputs": [],
   "source": [
    "error_function(prior,30)"
   ]
  },
  {
   "cell_type": "code",
   "execution_count": null,
   "metadata": {},
   "outputs": [],
   "source": []
  }
 ],
 "metadata": {
  "kernelspec": {
   "display_name": "Python 3",
   "language": "python",
   "name": "python3"
  },
  "language_info": {
   "codemirror_mode": {
    "name": "ipython",
    "version": 3
   },
   "file_extension": ".py",
   "mimetype": "text/x-python",
   "name": "python",
   "nbconvert_exporter": "python",
   "pygments_lexer": "ipython3",
   "version": "3.8.2"
  }
 },
 "nbformat": 4,
 "nbformat_minor": 4
}
