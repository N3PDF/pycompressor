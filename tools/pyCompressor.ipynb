{
 "cells": [
  {
   "cell_type": "code",
   "execution_count": 1,
   "metadata": {},
   "outputs": [],
   "source": [
    "import time\n",
    "import lhapdf\n",
    "import numpy as np\n",
    "from random import sample\n",
    "import sys\n",
    "sys.path.insert(0, '../src/compressor')\n",
    "from pdf_grid import XGrid, PdfSet\n",
    "from estimators import Estimators, NormalizationK\n",
    "import matplotlib.pyplot as plt\n",
    "%matplotlib inline"
   ]
  },
  {
   "cell_type": "code",
   "execution_count": 2,
   "metadata": {},
   "outputs": [],
   "source": [
    "# Physical Parameters\n",
    "pdfname = \"NNPDF31_nnlo_as_0118\"\n",
    "Qscale  = 1\n",
    "nf = 3\n",
    "# construct grid\n",
    "x = XGrid().build_xgrid()"
   ]
  },
  {
   "cell_type": "code",
   "execution_count": 3,
   "metadata": {},
   "outputs": [
    {
     "data": {
      "text/plain": [
       "(101, 6, 104)"
      ]
     },
     "execution_count": 3,
     "metadata": {},
     "output_type": "execute_result"
    }
   ],
   "source": [
    "# Construct input pdf set\n",
    "pdf = PdfSet(pdfname, x, Qscale, nf).build_pdf()\n",
    "pdf.shape"
   ]
  },
  {
   "cell_type": "code",
   "execution_count": 4,
   "metadata": {},
   "outputs": [
    {
     "data": {
      "image/png": "[encoded data removed]",
      "text/plain": [
       "<Figure size 432x288 with 1 Axes>"
      ]
     },
     "metadata": {
      "needs_background": "light"
     },
     "output_type": "display_data"
    }
   ],
   "source": [
    "plt.figure()\n",
    "for p in range(pdf.shape[0]):\n",
    "    plt.plot(x, pdf[p][3], color=\"red\", alpha=.25)\n",
    "plt.show()"
   ]
  },
  {
   "cell_type": "code",
   "execution_count": 5,
   "metadata": {},
   "outputs": [
    {
     "data": {
      "text/plain": [
       "array([[[1.29251201, 1.81134007, 1.58916167, 1.24122035, 1.20430055],\n",
       "        [1.32703722, 1.18408112, 1.53057482, 1.61192895, 1.31337225],\n",
       "        [1.71989852, 1.27881647, 1.60311706, 1.7136699 , 1.62861461],\n",
       "        [1.46810398, 1.71862931, 1.47650309, 1.58192772, 1.29966677]],\n",
       "\n",
       "       [[1.63860719, 1.03831774, 1.19911135, 1.19018451, 1.37409833],\n",
       "        [1.80867485, 1.13113534, 1.29418811, 1.56121825, 1.6919673 ],\n",
       "        [1.40331139, 1.49828339, 1.75559687, 1.51659201, 1.92282353],\n",
       "        [1.44795307, 1.13232803, 1.44476215, 1.42427038, 1.01153263]],\n",
       "\n",
       "       [[1.21264867, 1.49395027, 1.97061687, 1.18232794, 1.26421231],\n",
       "        [1.16596726, 1.85093822, 1.3525246 , 1.18746183, 1.91776295],\n",
       "        [1.98533527, 1.89839184, 1.34953402, 1.92461448, 1.16814122],\n",
       "        [1.9069133 , 1.37854471, 1.76243659, 1.83831833, 1.40340014]]])"
      ]
     },
     "execution_count": 5,
     "metadata": {},
     "output_type": "execute_result"
    }
   ],
   "source": [
    "# Toy PDF\n",
    "A = np.random.uniform(1,2,size=[3,4,5])\n",
    "A"
   ]
  },
  {
   "cell_type": "code",
   "execution_count": 6,
   "metadata": {},
   "outputs": [],
   "source": [
    "est = Estimators(A)"
   ]
  },
  {
   "cell_type": "code",
   "execution_count": 7,
   "metadata": {},
   "outputs": [
    {
     "data": {
      "text/plain": [
       "array([[1.38125596, 1.44786936, 1.58629663, 1.2045776 , 1.2808704 ],\n",
       "       [1.43389311, 1.38871823, 1.39242917, 1.45353634, 1.64103416],\n",
       "       [1.70284839, 1.55849723, 1.56941599, 1.71829213, 1.57319312],\n",
       "       [1.60765678, 1.40983402, 1.56123394, 1.61483881, 1.23819985]])"
      ]
     },
     "execution_count": 7,
     "metadata": {},
     "output_type": "execute_result"
    }
   ],
   "source": [
    "mean = est.mean()\n",
    "mean"
   ]
  },
  {
   "cell_type": "code",
   "execution_count": 8,
   "metadata": {},
   "outputs": [
    {
     "data": {
      "text/plain": [
       "array([[0.18487253, 0.31726274, 0.31497233, 0.0261081 , 0.0703133 ],\n",
       "       [0.27304688, 0.32755285, 0.10054502, 0.18927868, 0.24935606],\n",
       "       [0.23791592, 0.25649911, 0.16747852, 0.16660654, 0.3105801 ],\n",
       "       [0.21176616, 0.24037687, 0.14286066, 0.1706288 , 0.16577831]])"
      ]
     },
     "execution_count": 8,
     "metadata": {},
     "output_type": "execute_result"
    }
   ],
   "source": [
    "stdev = est.stdev()\n",
    "stdev"
   ]
  },
  {
   "cell_type": "code",
   "execution_count": 9,
   "metadata": {},
   "outputs": [
    {
     "name": "stdout",
     "output_type": "stream",
     "text": [
      "mean=1.4478693561447529\n",
      "stdev=0.317262738808767\n"
     ]
    }
   ],
   "source": [
    "fl, xgrid = 0, 1\n",
    "print(f'mean={np.mean(np.array([A[i][fl][xgrid] for i in range(A.shape[0])]))}')\n",
    "print(f'stdev={np.std(np.array([A[i][fl][xgrid] for i in range(A.shape[0])]))}')"
   ]
  },
  {
   "cell_type": "code",
   "execution_count": 10,
   "metadata": {},
   "outputs": [
    {
     "data": {
      "text/plain": [
       "array([[1.01151089, 0.81334388, 0.95635198, 1.15236139, 1.14024379],\n",
       "       [0.88779935, 0.73361252, 1.19133914, 1.07497898, 1.14232205],\n",
       "       [1.22701654, 1.04549902, 1.23445895, 1.38507905, 0.95203291],\n",
       "       [1.18412446, 0.92908027, 1.27551263, 1.27358121, 0.90664322]])"
      ]
     },
     "execution_count": 10,
     "metadata": {},
     "output_type": "execute_result"
    }
   ],
   "source": [
    "region1 = mean - 2 * stdev\n",
    "region1"
   ]
  },
  {
   "cell_type": "code",
   "execution_count": 12,
   "metadata": {},
   "outputs": [
    {
     "data": {
      "text/plain": [
       "(4, 5, 6)"
      ]
     },
     "execution_count": 12,
     "metadata": {},
     "output_type": "execute_result"
    }
   ],
   "source": [
    "est.kolmogorov_smirnov().shape"
   ]
  },
  {
   "cell_type": "code",
   "execution_count": 14,
   "metadata": {},
   "outputs": [
    {
     "data": {
      "text/plain": [
       "(10, 100, 6)"
      ]
     },
     "execution_count": 14,
     "metadata": {},
     "output_type": "execute_result"
    }
   ],
   "source": [
    "B = np.random.uniform(1,2,size=[5,10,100])\n",
    "estb = Estimators(B)\n",
    "estb.kolmogorov_smirnov().shape"
   ]
  },
  {
   "cell_type": "code",
   "execution_count": 15,
   "metadata": {},
   "outputs": [
    {
     "data": {
      "text/plain": [
       "(6, 104, 6)"
      ]
     },
     "execution_count": 15,
     "metadata": {},
     "output_type": "execute_result"
    }
   ],
   "source": [
    "# Test with PDF\n",
    "estpdf = Estimators(pdf)\n",
    "estpdf.kolmogorov_smirnov().shape"
   ]
  },
  {
   "cell_type": "code",
   "execution_count": null,
   "metadata": {},
   "outputs": [],
   "source": [
    "# Check Normalization\n",
    "norm = NormalizationK(pdf, 1)\n",
    "%time cfd68x = norm.cfd68(\"mean\", pdfRed)\n",
    "print(cfd68x[0].shape)\n",
    "print(cfd68x[1].shape)\n",
    "%time cfd68z = norm.cfd68(\"stdev\", pdfRed)\n",
    "print(cfd68z[0].shape)\n",
    "print(cfd68z[1].shape)"
   ]
  },
  {
   "cell_type": "code",
   "execution_count": null,
   "metadata": {},
   "outputs": [],
   "source": []
  }
 ],
 "metadata": {
  "kernelspec": {
   "display_name": "Python 3",
   "language": "python",
   "name": "python3"
  },
  "language_info": {
   "codemirror_mode": {
    "name": "ipython",
    "version": 3
   },
   "file_extension": ".py",
   "mimetype": "text/x-python",
   "name": "python",
   "nbconvert_exporter": "python",
   "pygments_lexer": "ipython3",
   "version": "3.8.2"
  }
 },
 "nbformat": 4,
 "nbformat_minor": 4
}
