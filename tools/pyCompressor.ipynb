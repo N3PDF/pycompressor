{
 "cells": [
  {
   "cell_type": "code",
   "execution_count": 1,
   "metadata": {},
   "outputs": [],
   "source": [
    "import time\n",
    "import lhapdf\n",
    "import numpy as np\n",
    "from random import sample\n",
    "import sys\n",
    "import matplotlib.pyplot as plt\n",
    "%matplotlib inline\n",
    "\n",
    "from compressor.pdf_grid import XGrid, PdfSet\n",
    "from compressor.estimators import Estimators\n",
    "from compressor.err_function import compute_erfm\n",
    "from compressor.err_function import compute_erfs\n",
    "from compressor.err_function import compute_erfc\n",
    "from compressor.err_function import ErfComputation"
   ]
  },
  {
   "cell_type": "code",
   "execution_count": 3,
   "metadata": {},
   "outputs": [
    {
     "name": "stdout",
     "output_type": "stream",
     "text": [
      "Initial pdf shape: (1001, 6, 104)\n",
      "Prior pdf shape: (100, 6, 104)\n",
      "Reduced pdf shape: (50, 6, 104)\n"
     ]
    }
   ],
   "source": [
    "# Physical Parameters\n",
    "pdfname = \"NNPDF31_nnlo_as_0118_1000\"\n",
    "Qscale  = 1\n",
    "nf = 3\n",
    "# construct grid\n",
    "x = XGrid().build_xgrid()\n",
    "\n",
    "# Construct Toy Prior set\n",
    "pdf = PdfSet(pdfname, x, Qscale, nf).build_pdf()\n",
    "print(f'Initial pdf shape: {pdf.shape}')\n",
    "\n",
    "def sampling(replica, number):\n",
    "    \"\"\"\n",
    "    Sample a subset a replicas\n",
    "    \"\"\"\n",
    "    # Construct toy Reduced set\n",
    "    index = np.random.choice(\n",
    "        replica.shape[0],\n",
    "        number,\n",
    "        replace=False\n",
    "    )\n",
    "    return replica[index]\n",
    "\n",
    "# Construc Toy Prior and Reduced sets\n",
    "prior = sampling(pdf, 100)\n",
    "print(f'Prior pdf shape: {prior.shape}')\n",
    "reduc = sampling(prior, 50)\n",
    "print(f'Reduced pdf shape: {reduc.shape}')"
   ]
  },
  {
   "cell_type": "code",
   "execution_count": 4,
   "metadata": {},
   "outputs": [
    {
     "data": {
      "image/png": "[encoded data removed]",
      "text/plain": [
       "<Figure size 432x288 with 1 Axes>"
      ]
     },
     "metadata": {
      "needs_background": "light"
     },
     "output_type": "display_data"
    }
   ],
   "source": [
    "plt.figure()\n",
    "for p in range(reduc.shape[0]):\n",
    "    plt.plot(x, reduc[p][3], color=\"red\", alpha=.25)\n",
    "plt.show()"
   ]
  },
  {
   "cell_type": "code",
   "execution_count": 5,
   "metadata": {},
   "outputs": [],
   "source": [
    "est = Estimators(prior)"
   ]
  },
  {
   "cell_type": "code",
   "execution_count": 6,
   "metadata": {},
   "outputs": [],
   "source": [
    "MomentEstimators = [\n",
    "    \"mean\",\n",
    "    \"stdev\",\n",
    "    \"kurtosis\",\n",
    "    \"skewness\",\n",
    "    \"moment5th\",\n",
    "    \"moment6th\"\n",
    "]"
   ]
  },
  {
   "cell_type": "code",
   "execution_count": 7,
   "metadata": {},
   "outputs": [
    {
     "name": "stdout",
     "output_type": "stream",
     "text": [
      "(6, 104)\n",
      "(6, 104)\n",
      "(6, 104)\n",
      "(6, 104)\n",
      "(6, 104)\n",
      "(6, 104)\n"
     ]
    }
   ],
   "source": [
    "# Test Estimators Only\n",
    "for st in MomentEstimators:\n",
    "    print(getattr(est, st, None)().shape)"
   ]
  },
  {
   "cell_type": "code",
   "execution_count": 8,
   "metadata": {},
   "outputs": [
    {
     "data": {
      "text/plain": [
       "(6, 104, 6)"
      ]
     },
     "execution_count": 8,
     "metadata": {},
     "output_type": "execute_result"
    }
   ],
   "source": [
    "est.kolmogorov_smirnov().shape"
   ]
  },
  {
   "cell_type": "code",
   "execution_count": null,
   "metadata": {},
   "outputs": [],
   "source": []
  },
  {
   "cell_type": "code",
   "execution_count": 9,
   "metadata": {},
   "outputs": [],
   "source": [
    "est1 = Estimators(prior)\n",
    "est2 = Estimators(reduc)"
   ]
  },
  {
   "cell_type": "code",
   "execution_count": 10,
   "metadata": {},
   "outputs": [
    {
     "name": "stdout",
     "output_type": "stream",
     "text": [
      "12922.790534305444\n",
      "8.712483680486912\n",
      "42.857661042774204\n",
      "786189.1580043307\n",
      "215706.93949912905\n",
      "173.89152619166478\n"
     ]
    }
   ],
   "source": [
    "for st in MomentEstimators:\n",
    "    print(compute_erfm(est1, est2, st))"
   ]
  },
  {
   "cell_type": "code",
   "execution_count": 11,
   "metadata": {},
   "outputs": [
    {
     "data": {
      "text/plain": [
       "8.64563522480898"
      ]
     },
     "execution_count": 11,
     "metadata": {},
     "output_type": "execute_result"
    }
   ],
   "source": [
    "compute_erfs(est1, est2, 'kolmogorov_smirnov')"
   ]
  },
  {
   "cell_type": "code",
   "execution_count": null,
   "metadata": {},
   "outputs": [],
   "source": []
  },
  {
   "cell_type": "code",
   "execution_count": 12,
   "metadata": {},
   "outputs": [],
   "source": [
    "erf = ErfComputation(prior, reduc)"
   ]
  },
  {
   "cell_type": "code",
   "execution_count": 13,
   "metadata": {},
   "outputs": [
    {
     "name": "stdout",
     "output_type": "stream",
     "text": [
      "54077.591893169214\n",
      "10.574328741869165\n",
      "44.586731615055434\n",
      "800099.8468821311\n",
      "509259.05504881573\n",
      "167.94564532367875\n"
     ]
    }
   ],
   "source": [
    "for st in MomentEstimators:\n",
    "    print(erf.normalize_erfm(st))"
   ]
  },
  {
   "cell_type": "code",
   "execution_count": 14,
   "metadata": {},
   "outputs": [
    {
     "name": "stdout",
     "output_type": "stream",
     "text": [
      "0.2769166919843523\n",
      "0.8327549525119378\n",
      "0.9783202185859325\n",
      "0.9415833024054701\n",
      "0.4089518574254207\n",
      "1.0841707791035333\n"
     ]
    }
   ],
   "source": [
    "for st in MomentEstimators:\n",
    "    print(erf.erfm(st))"
   ]
  },
  {
   "cell_type": "code",
   "execution_count": 15,
   "metadata": {},
   "outputs": [
    {
     "name": "stdout",
     "output_type": "stream",
     "text": [
      "CPU times: user 7min 20s, sys: 606 ms, total: 7min 21s\n",
      "Wall time: 7min 21s\n"
     ]
    },
    {
     "data": {
      "text/plain": [
       "7.3184604037254495"
      ]
     },
     "execution_count": 15,
     "metadata": {},
     "output_type": "execute_result"
    }
   ],
   "source": [
    "%time erf.normalize_erfs('kolmogorov_smirnov')"
   ]
  },
  {
   "cell_type": "code",
   "execution_count": 16,
   "metadata": {},
   "outputs": [
    {
     "name": "stdout",
     "output_type": "stream",
     "text": [
      "CPU times: user 7min 24s, sys: 650 ms, total: 7min 24s\n",
      "Wall time: 7min 25s\n"
     ]
    },
    {
     "data": {
      "text/plain": [
       "1.129381681918617"
      ]
     },
     "execution_count": 16,
     "metadata": {},
     "output_type": "execute_result"
    }
   ],
   "source": [
    "%time erf.erfs('kolmogorov_smirnov')"
   ]
  },
  {
   "cell_type": "code",
   "execution_count": null,
   "metadata": {},
   "outputs": [],
   "source": []
  },
  {
   "cell_type": "code",
   "execution_count": null,
   "metadata": {},
   "outputs": [],
   "source": []
  }
 ],
 "metadata": {
  "kernelspec": {
   "display_name": "Python 3",
   "language": "python",
   "name": "python3"
  },
  "language_info": {
   "codemirror_mode": {
    "name": "ipython",
    "version": 3
   },
   "file_extension": ".py",
   "mimetype": "text/x-python",
   "name": "python",
   "nbconvert_exporter": "python",
   "pygments_lexer": "ipython3",
   "version": "3.8.2"
  }
 },
 "nbformat": 4,
 "nbformat_minor": 4
}
