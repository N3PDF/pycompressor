{
 "cells": [
  {
   "cell_type": "code",
   "execution_count": 1,
   "metadata": {},
   "outputs": [],
   "source": [
    "import time\n",
    "import lhapdf\n",
    "import numpy as np\n",
    "from random import sample\n",
    "import sys\n",
    "import matplotlib.pyplot as plt\n",
    "%matplotlib inline\n",
    "\n",
    "from pycompressor.pdf_grid import XGrid, PdfSet\n",
    "from pycompressor.estimators import Estimators\n",
    "from pycompressor.err_function import compute_erfm\n",
    "from pycompressor.err_function import compute_erfs\n",
    "from pycompressor.err_function import compute_erfc\n",
    "from pycompressor.err_function import ErfComputation\n",
    "# from pycompressor.compressor import error_function"
   ]
  },
  {
   "cell_type": "code",
   "execution_count": 2,
   "metadata": {},
   "outputs": [
    {
     "name": "stdout",
     "output_type": "stream",
     "text": [
      "Initial pdf shape: (1000, 5, 104)\n",
      "Prior pdf shape: (100, 5, 104)\n",
      "Reduced pdf shape: (50, 5, 104)\n"
     ]
    }
   ],
   "source": [
    "# Physical Parameters\n",
    "pdfname = \"NNPDF31_nnlo_as_0118_1000\"\n",
    "Qscale  = 1\n",
    "nf = 2\n",
    "# construct grid\n",
    "x = XGrid().build_xgrid()\n",
    "# x = np.linspace(1e-2,0.9,5)\n",
    "\n",
    "# Construct Toy Prior set\n",
    "pdf = PdfSet(pdfname, x, Qscale, nf).build_pdf()\n",
    "print(f'Initial pdf shape: {pdf.shape}')\n",
    "\n",
    "def sampling(replica, number):\n",
    "    \"\"\"\n",
    "    Sample a subset a replicas\n",
    "    \"\"\"\n",
    "    # Construct toy Reduced set\n",
    "    index = np.random.choice(\n",
    "        replica.shape[0],\n",
    "        number,\n",
    "        replace=False\n",
    "    )\n",
    "    return replica[index]\n",
    "\n",
    "# Construc Toy Prior and Reduced sets\n",
    "prior = sampling(pdf, 100)\n",
    "print(f'Prior pdf shape: {prior.shape}')\n",
    "reduc = sampling(prior, 50)\n",
    "print(f'Reduced pdf shape: {reduc.shape}')"
   ]
  },
  {
   "cell_type": "code",
   "execution_count": null,
   "metadata": {},
   "outputs": [],
   "source": [
    "plt.figure()\n",
    "for p in range(reduc.shape[0]):\n",
    "    plt.plot(x, reduc[p][3], color=\"red\", alpha=.25)\n",
    "plt.show()"
   ]
  },
  {
   "cell_type": "code",
   "execution_count": 3,
   "metadata": {},
   "outputs": [
    {
     "name": "stdout",
     "output_type": "stream",
     "text": [
      "CPU times: user 17 s, sys: 3.57 ms, total: 17 s\n",
      "Wall time: 17 s\n"
     ]
    }
   ],
   "source": [
    "est_dic = {\n",
    "    'moment_estimators': ['mean', 'stdev', 'skewness', 'kurtosis'],\n",
    "    'stat_estimators': ['kolmogorov_smirnov']\n",
    "}\n",
    "\n",
    "%time erf = ErfComputation(prior, est_dic, 50)"
   ]
  },
  {
   "cell_type": "code",
   "execution_count": 4,
   "metadata": {},
   "outputs": [
    {
     "data": {
      "text/plain": [
       "Normalizations: {'mean': 2491.2089226870703, 'stdev': 11.829688545180119, 'skewness': 17471965.645850815, 'kurtosis': 152097.04169963673, 'kolmogorov_smirnov': 1428.4062879726036}"
      ]
     },
     "execution_count": 4,
     "metadata": {},
     "output_type": "execute_result"
    }
   ],
   "source": [
    "erf"
   ]
  },
  {
   "cell_type": "code",
   "execution_count": 6,
   "metadata": {},
   "outputs": [
    {
     "name": "stdout",
     "output_type": "stream",
     "text": [
      "CPU times: user 48 ms, sys: 81 µs, total: 48.1 ms\n",
      "Wall time: 47.2 ms\n"
     ]
    },
    {
     "data": {
      "text/plain": [
       "0.6962637044052908"
      ]
     },
     "execution_count": 6,
     "metadata": {},
     "output_type": "execute_result"
    }
   ],
   "source": [
    "%time erf.compute_tot_erf(reduc)"
   ]
  },
  {
   "cell_type": "code",
   "execution_count": null,
   "metadata": {},
   "outputs": [],
   "source": []
  }
 ],
 "metadata": {
  "kernelspec": {
   "display_name": "Python 3",
   "language": "python",
   "name": "python3"
  },
  "language_info": {
   "codemirror_mode": {
    "name": "ipython",
    "version": 3
   },
   "file_extension": ".py",
   "mimetype": "text/x-python",
   "name": "python",
   "nbconvert_exporter": "python",
   "pygments_lexer": "ipython3",
   "version": "3.8.2"
  }
 },
 "nbformat": 4,
 "nbformat_minor": 4
}
